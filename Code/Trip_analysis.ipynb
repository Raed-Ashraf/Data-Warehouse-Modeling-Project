{
  "nbformat": 4,
  "nbformat_minor": 0,
  "metadata": {
    "colab": {
      "provenance": []
    },
    "kernelspec": {
      "name": "python3",
      "display_name": "Python 3"
    },
    "language_info": {
      "name": "python"
    }
  },
  "cells": [
    {
      "cell_type": "code",
      "execution_count": null,
      "metadata": {
        "id": "Ij3UP2CslqRz"
      },
      "outputs": [],
      "source": [
        "import psycopg2\n",
        "import pandas as pd\n",
        "import matplotlib.pyplot as plt"
      ]
    },
    {
      "cell_type": "code",
      "source": [
        "# Establish connection to the Data Warehouse\n",
        "conn = psycopg2.connect(\n",
        "    host='10.218.121.82',\n",
        "    port='5432',\n",
        "    database='export_bbbb',\n",
        "    user='Write username here',\n",
        "    password='Write password here'\n",
        ")"
      ],
      "metadata": {
        "id": "1Ev-z43MmOpB"
      },
      "execution_count": null,
      "outputs": []
    },
    {
      "cell_type": "code",
      "source": [
        "# Define the SQL query to retrieve the data from our materialized view table\n",
        "query = \"SELECT * FROM trip_details\"\n",
        "\n",
        "# Read the data into a pandas DataFrame\n",
        "df = pd.read_sql(query, conn)"
      ],
      "metadata": {
        "id": "reXNeoSgmXA8"
      },
      "execution_count": null,
      "outputs": []
    },
    {
      "cell_type": "code",
      "source": [
        "# See our columns\n",
        "print(df.columns)"
      ],
      "metadata": {
        "id": "1OSG_qQVma7F"
      },
      "execution_count": null,
      "outputs": []
    },
    {
      "cell_type": "markdown",
      "source": [
        "**Question 1**:\n",
        "\n",
        "What is the total waste collected per month? and what is the largest month and smallest month?"
      ],
      "metadata": {
        "id": "a_rAAxy47Qgm"
      }
    },
    {
      "cell_type": "code",
      "source": [
        "# Grouping the data by month and calculating the total waste collected\n",
        "month_waste_data = df.groupby('month')['waste_collected'].sum().reset_index()\n",
        "print(month_waste_data)\n",
        "\n",
        "# max and min analysis\n",
        "max_month_waste = max(month_waste_data['waste_collected'])\n",
        "max_month = month_waste_data.loc[month_waste_data['waste_collected'].idxmax(), 'month']\n",
        "min_month_waste = min(month_waste_data['waste_collected'])\n",
        "min_month = month_waste_data.loc[month_waste_data['waste_collected'].idxmin(), 'month']\n",
        "print(\"\\nLargest amount of waste collected is \" ,max_month_waste , \"Tons and it is during month: \", max_month)\n",
        "print(\"\\nSmallest amount of waste collected is \" ,min_month_waste , \"Tons and it is during month: \", min_month)"
      ],
      "metadata": {
        "id": "d-1UgnR-8UeU"
      },
      "execution_count": null,
      "outputs": []
    },
    {
      "cell_type": "code",
      "source": [
        "# Create the plot\n",
        "plt.figure(figsize=(15, 6))\n",
        "plt.bar(month_waste_data['month'], month_waste_data['waste_collected'])\n",
        "# Add labels and title\n",
        "plt.xlabel('Month')\n",
        "plt.ylabel('Waste Collected')\n",
        "plt.title('Waste Collection Over Months')"
      ],
      "metadata": {
        "id": "n4TsZCwZe5mu"
      },
      "execution_count": null,
      "outputs": []
    },
    {
      "cell_type": "markdown",
      "source": [
        "**Question 2**:\n",
        "\n",
        "What is the total amount of waste collected for each truck type? and which truck type can collect the maximum waste collected?"
      ],
      "metadata": {
        "id": "gyMpO3pby6jm"
      }
    },
    {
      "cell_type": "code",
      "source": [
        "# Grouping the data by month and calculating the total waste collected\n",
        "truck_waste_data = df.groupby('truck')['waste_collected'].sum().reset_index()\n",
        "print(truck_waste_data)\n",
        "\n",
        "# max and min analysis\n",
        "max_truck = truck_waste_data.loc[truck_waste_data['waste_collected'].idxmax(), 'truck']\n",
        "max_truck_waste = max(truck_waste_data['waste_collected'])\n",
        "print(\"\\nThe truck type of \", max_truck, \" collects the maximum amount of waste which is \", max_truck_waste, \" Tons\")"
      ],
      "metadata": {
        "id": "ls8LoJlf0OZX"
      },
      "execution_count": null,
      "outputs": []
    },
    {
      "cell_type": "markdown",
      "source": [
        "**Question 3:**\n",
        "\n",
        "What is the total amount of waste collected at each city? and which city has the largest amount of waste collected?"
      ],
      "metadata": {
        "id": "9zMqv-sC2A_C"
      }
    },
    {
      "cell_type": "code",
      "source": [
        "# Grouping the data by month and calculating the total waste collected\n",
        "city_waste_data = df.groupby('city')['waste_collected'].sum().reset_index()\n",
        "print(city_waste_data)\n",
        "\n",
        "# max and min analysis\n",
        "max_city = city_waste_data.loc[city_waste_data['waste_collected'].idxmax(), 'city']\n",
        "max_city_waste = max(city_waste_data['waste_collected'])\n",
        "print(\"\\n\", max_city, \" is the city that has the largest amuont of waste which is \", max_city_waste, \" Tons\")"
      ],
      "metadata": {
        "id": "oVTf_BG-2XMI"
      },
      "execution_count": null,
      "outputs": []
    },
    {
      "cell_type": "code",
      "source": [
        "# Create the plot\n",
        "plt.figure(figsize=(10, 6))\n",
        "plt.bar(city_waste_data['city'], city_waste_data['waste_collected'])\n",
        "# Add labels and title\n",
        "plt.xlabel('City')\n",
        "plt.ylabel('Waste Collected')\n",
        "plt.title('Waste Collection Over Cities')"
      ],
      "metadata": {
        "id": "BM6oQMYc3t7r"
      },
      "execution_count": null,
      "outputs": []
    },
    {
      "cell_type": "markdown",
      "source": [
        "**Question 4:**\n",
        "\n",
        "What is the total amount of waste collected per city for each quarter?"
      ],
      "metadata": {
        "id": "Hbbs5Zyo42Gt"
      }
    },
    {
      "cell_type": "code",
      "source": [
        "# Calculate total waste collected per city for each quarter\n",
        "total_waste_per_city_quarter = df.groupby(['city', 'quarter'])['waste_collected'].sum().unstack()\n",
        "print(total_waste_per_city_quarter)"
      ],
      "metadata": {
        "id": "SKEX-vc242fW"
      },
      "execution_count": null,
      "outputs": []
    },
    {
      "cell_type": "code",
      "source": [
        "# Plotting\n",
        "total_waste_per_city_quarter.plot(kind='bar', stacked=True)\n",
        "plt.title('Total Waste Collected per City for Each Quarter')\n",
        "plt.xlabel('City, Quarter')\n",
        "plt.ylabel('Total Waste Collected')\n",
        "plt.show()"
      ],
      "metadata": {
        "id": "ACpvGq0b5ITy"
      },
      "execution_count": null,
      "outputs": []
    },
    {
      "cell_type": "code",
      "source": [
        "# Close the database connection\n",
        "conn.close()"
      ],
      "metadata": {
        "id": "WAiewBJVmdQl"
      },
      "execution_count": null,
      "outputs": []
    }
  ]
}